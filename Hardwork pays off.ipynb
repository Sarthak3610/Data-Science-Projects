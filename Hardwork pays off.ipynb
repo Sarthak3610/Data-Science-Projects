{
 "cells": [
  {
   "cell_type": "code",
   "execution_count": 140,
   "metadata": {},
   "outputs": [],
   "source": [
    "import pandas as pd\n",
    "import numpy as np\n",
    "import matplotlib.pyplot as plt"
   ]
  },
  {
   "cell_type": "code",
   "execution_count": 141,
   "metadata": {},
   "outputs": [
    {
     "name": "stdout",
     "output_type": "stream",
     "text": [
      "(3750, 1)\n",
      "(3750, 1)\n",
      "(1250, 1)\n"
     ]
    }
   ],
   "source": [
    "dfx = pd.read_csv('Linear_X_Train.csv')\n",
    "dfy = pd.read_csv('Linear_Y_Train.csv')\n",
    "dfz = pd.read_csv('Linear_X_Test.csv')\n",
    "x = dfx.values\n",
    "y = dfy.values\n",
    "z = dfz.values\n",
    "print(x.shape)\n",
    "print(y.shape)\n",
    "print(z.shape)"
   ]
  },
  {
   "cell_type": "code",
   "execution_count": 142,
   "metadata": {},
   "outputs": [
    {
     "data": {
      "image/png": "[encoded data removed]",
      "text/plain": [
       "<Figure size 432x288 with 1 Axes>"
      ]
     },
     "metadata": {
      "needs_background": "light"
     },
     "output_type": "display_data"
    }
   ],
   "source": [
    "plt.scatter(x,y)\n",
    "plt.show()"
   ]
  },
  {
   "cell_type": "code",
   "execution_count": 148,
   "metadata": {},
   "outputs": [],
   "source": [
    "def hypothesis(x, theta):\n",
    "    return theta[0] + theta[1]*x\n",
    "def error(x, y, theta):\n",
    "    m = x.shape[0]\n",
    "    error = 0\n",
    "    for i in range(m):\n",
    "        hx = hypothesis(x, theta)\n",
    "        error += (hx - y[i])**2\n",
    "    return error\n",
    "def gradient(x, y, theta):\n",
    "    grad = np.zeros((2, ))\n",
    "    m = x.shape[0]\n",
    "    for i in range(m):\n",
    "        hx = hypothesis(x[i], theta)\n",
    "        grad[0] += (hx-y[i])\n",
    "        grad[1] += (hx-y[i])*x[i]\n",
    "    return grad\n",
    "def gradientdescent(x, y, lr = -0.0002):\n",
    "    theta = np.zeros((2, ))\n",
    "    itr = 0\n",
    "    max_itr = 300\n",
    "    error_list = []\n",
    "    while(itr < max_itr):\n",
    "        grad = gradient(x, y, theta)\n",
    "        e = error(x, y, theta)\n",
    "        error_list.append(e)\n",
    "        theta[0] = theta[0] + lr*grad[0]\n",
    "        theta[1] = theta[1] + lr*grad[1]\n",
    "        itr += 1\n",
    "    return theta, error_list\n"
   ]
  },
  {
   "cell_type": "code",
   "execution_count": 149,
   "metadata": {},
   "outputs": [
    {
     "name": "stdout",
     "output_type": "stream",
     "text": [
      "[ 3.72798828 80.54363185]\n",
      "(300, 3750, 1)\n"
     ]
    }
   ],
   "source": [
    "final_theta, error_list = gradientdescent(x, y)\n",
    "print(final_theta)\n",
    "print(np.array(error_list).shape)"
   ]
  },
  {
   "cell_type": "code",
   "execution_count": 150,
   "metadata": {},
   "outputs": [
    {
     "data": {
      "image/png": "[encoded data removed]",
      "text/plain": [
       "<Figure size 432x288 with 1 Axes>"
      ]
     },
     "metadata": {
      "needs_background": "light"
     },
     "output_type": "display_data"
    }
   ],
   "source": [
    "plt.scatter(x,y)\n",
    "plt.plot(z, hypothesis(z, final_theta), color = 'orange')\n",
    "\n",
    "plt.show()\n",
    "\n"
   ]
  },
  {
   "cell_type": "code",
   "execution_count": 151,
   "metadata": {},
   "outputs": [
    {
     "name": "stdout",
     "output_type": "stream",
     "text": [
      "(1250, 1)\n"
     ]
    }
   ],
   "source": [
    "arr = np.array(hypothesis(z, final_theta))\n",
    "print(arr.shape)"
   ]
  },
  {
   "cell_type": "code",
   "execution_count": 153,
   "metadata": {},
   "outputs": [],
   "source": [
    "#pd.DataFrame(arr).to_csv(\"submission_hardwork_pays_off.csv\", encoding = 'utf-8', index = False)\n",
    "#df = pd.read_csv('submission_hardwork_pays_off.csv')\n",
    "df = pd.DataFrame(arr)\n",
    "df.columns = ['y']\n",
    "df.to_csv('submission_hardwork_pays_off.csv', encoding = 'utf-8', index = False)"
   ]
  },
  {
   "cell_type": "code",
   "execution_count": null,
   "metadata": {},
   "outputs": [],
   "source": []
  },
  {
   "cell_type": "code",
   "execution_count": null,
   "metadata": {},
   "outputs": [],
   "source": []
  }
 ],
 "metadata": {
  "kernelspec": {
   "display_name": "Python 3",
   "language": "python",
   "name": "python3"
  },
  "language_info": {
   "codemirror_mode": {
    "name": "ipython",
    "version": 3
   },
   "file_extension": ".py",
   "mimetype": "text/x-python",
   "name": "python",
   "nbconvert_exporter": "python",
   "pygments_lexer": "ipython3",
   "version": "3.7.0"
  }
 },
 "nbformat": 4,
 "nbformat_minor": 2
}
