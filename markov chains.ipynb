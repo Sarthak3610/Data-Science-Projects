{
 "cells": [
  {
   "cell_type": "code",
   "execution_count": 1,
   "metadata": {},
   "outputs": [],
   "source": [
    "text = \"Hello World\""
   ]
  },
  {
   "cell_type": "code",
   "execution_count": 2,
   "metadata": {},
   "outputs": [],
   "source": [
    "def generateTable(data, k = 4):\n",
    "    T = {}\n",
    "    for i in range(len(data) - k):\n",
    "        x = data[i:i+k]\n",
    "        y = data[i+k]\n",
    "        #print(\"x %s and y %s\" %(x,y))\n",
    "        if T.get(x) is None:\n",
    "            T[x] = {}\n",
    "            T[x][y] = 1\n",
    "        else:\n",
    "            if T[x].get(y) is None:\n",
    "                T[x][y] = 1\n",
    "            else:\n",
    "                T[x][y] += 1\n",
    "    return T\n"
   ]
  },
  {
   "cell_type": "code",
   "execution_count": 3,
   "metadata": {},
   "outputs": [],
   "source": [
    "T = generateTable(\"hello hello helli\")"
   ]
  },
  {
   "cell_type": "code",
   "execution_count": 4,
   "metadata": {},
   "outputs": [],
   "source": [
    "def convert(T):\n",
    "    for kx in T.keys():\n",
    "        s = float(sum(T[kx].values()))\n",
    "        for k in T[kx].keys():\n",
    "            T[kx][k] = T[kx][k]/s\n",
    "    return T\n"
   ]
  },
  {
   "cell_type": "code",
   "execution_count": 5,
   "metadata": {},
   "outputs": [
    {
     "name": "stdout",
     "output_type": "stream",
     "text": [
      "{'hell': {'o': 0.6666666666666666, 'i': 0.3333333333333333}, 'ello': {' ': 1.0}, 'llo ': {'h': 1.0}, 'lo h': {'e': 1.0}, 'o he': {'l': 1.0}, ' hel': {'l': 1.0}}\n"
     ]
    }
   ],
   "source": [
    "T = convert(T)\n",
    "print(T)"
   ]
  },
  {
   "cell_type": "code",
   "execution_count": 6,
   "metadata": {},
   "outputs": [],
   "source": [
    "text_path = \"Apna Time Aayega.txt\""
   ]
  },
  {
   "cell_type": "code",
   "execution_count": 7,
   "metadata": {},
   "outputs": [],
   "source": [
    "def load_text(filename):\n",
    "    with open(filename, encoding = 'utf8') as f:\n",
    "        return f.read().lower()"
   ]
  },
  {
   "cell_type": "code",
   "execution_count": 8,
   "metadata": {},
   "outputs": [
    {
     "name": "stdout",
     "output_type": "stream",
     "text": [
      "apna time aayega\n",
      "uth ja apni raakh se\n",
      "tu udd ja ab talaash mein\n",
      "parwaaz dekh parwane ki\n",
      "aasman bhi sar uthayega\n",
      "aayega apna time aayega\n",
      "mere jaisa shaana lala\n",
      "tujhe na mil payega\n",
      " \n",
      "yeh shabdon ka jwala\n",
      "meri bediyan pighlayega\n",
      "jitna toone boya hai tu\n",
      "utna hi to khaayega\n",
      "aisa mera khwaab hai\n",
      "jo darr ko bhi satayega\n",
      "zinda mera khwaab\n",
      "ab kaise tu dafnayega\n",
      " \n",
      "ab hausle se jeene de\n",
      "ab khauf nahi hai seene mein\n",
      "har raaste ko cheerenge\n",
      "hum kaamyabi chheenenge\n",
      "sab kuchh mila paseene se\n",
      "matlab bana ab jeene mein\n",
      " \n",
      "kyon\n",
      "kyon ki apna time aayega\n",
      " \n",
      "tu nanga hi to aaya hai\n",
      "kya ghanta lekar jaayega\n",
      "apna time aayega\n",
      "apna time aayega\n",
      "apna time aayega x (2)\n",
      " \n",
      "tu nanga hi to aaya hai\n",
      "kya ghanta lekar..\n",
      " \n",
      "kissi ka hath nahi tha sar par\n",
      "yahaan par aaya khud ki mehnat se main\n",
      "jitni taakat kismat mein nahi\n",
      "utni rehmat mein hai\n",
      "phir bhi ladka sehmat nahin hai\n",
      "kyon ki hairat nahi hai\n",
      "zaroorat yahaan marzi ki\n",
      "aur jurrat ki hai\n",
      " \n",
      "taakat ki hai, aafat ki\n",
      "himaakat ki, ibaadat ki\n",
      "adalat yeh hai chahat ki\n",
      "mohobbat ki, amaanat ki\n",
      "jeetne ki ab aadat ki hai\n",
      "shohrat ki ab laalach nai hai\n",
      "tere bhai jaisa koyi hard’ch nai hai\n",
      " \n",
      "iss harkat ne hi barkat di hai\n",
      "kyon?\n",
      " \n",
      "tu nanga hi to aaya hai\n",
      "kya ghanta lekar jaayega\n",
      "apna time aayega\n",
      "apna time aayega\n",
      "apna time aayega\n",
      " \n",
      "tu nanga hi to aaya hai\n",
      "kya ghanta lekar jaayega\n",
      "kya tu ghanta lekar jaayega\n",
      "apna time aayega\n",
      "apna time aayega\n"
     ]
    }
   ],
   "source": [
    "text = load_text(text_path)\n",
    "print(text)"
   ]
  },
  {
   "cell_type": "code",
   "execution_count": 9,
   "metadata": {},
   "outputs": [],
   "source": [
    "def trainmarkov(text, k=4):\n",
    "    T = generateTable(text)\n",
    "    T =  convert(T)\n",
    "    return T\n"
   ]
  },
  {
   "cell_type": "code",
   "execution_count": 10,
   "metadata": {},
   "outputs": [],
   "source": [
    "model = trainmarkov(text)"
   ]
  },
  {
   "cell_type": "code",
   "execution_count": 11,
   "metadata": {},
   "outputs": [],
   "source": [
    "import numpy as np\n",
    "np.random.seed(11)"
   ]
  },
  {
   "cell_type": "code",
   "execution_count": 22,
   "metadata": {},
   "outputs": [],
   "source": [
    "np.random.seed(11)\n",
    "def sample_next(ctx, T, k):\n",
    "    ctx = ctx[-k:]\n",
    "    if T.get(ctx) is None:\n",
    "        return \" \"\n",
    "    possible_chars = list(T[ctx].keys())\n",
    "    possible_values = list(T[ctx].values())\n",
    "    return np.random.choice(possible_chars, p = possible_values)\n"
   ]
  },
  {
   "cell_type": "code",
   "execution_count": 23,
   "metadata": {},
   "outputs": [
    {
     "data": {
      "text/plain": [
       "' '"
      ]
     },
     "execution_count": 23,
     "metadata": {},
     "output_type": "execute_result"
    }
   ],
   "source": [
    "sample_next(\"apna\", model, 4)"
   ]
  },
  {
   "cell_type": "code",
   "execution_count": 24,
   "metadata": {},
   "outputs": [],
   "source": [
    "def generatetext(starting_sent, k, maxlen = 2000):\n",
    "    sentence = starting_sent\n",
    "    ctx = starting_sent[-k:]\n",
    "    for ix in range(maxlen):\n",
    "        next_prediction = sample_next(ctx, model, k)\n",
    "        sentence += next_prediction\n",
    "        ctx = sentence[-k:]\n",
    "    return sentence\n"
   ]
  },
  {
   "cell_type": "code",
   "execution_count": 25,
   "metadata": {},
   "outputs": [
    {
     "name": "stdout",
     "output_type": "stream",
     "text": [
      "apna time aaya khwaab hausle se jeene se jeene de\n",
      "ab khaayega\n",
      " \n",
      "tu nanga hi to aaya hai\n",
      "kyon?\n",
      " \n",
      "tu nanga hi to aayega\n",
      " \n",
      "tu nanga hi barkat di harkat ki hard’ch nai hai jaisa shabdon ka hai\n",
      "kya ghanta lekar jaayega\n",
      "apna time aayega\n",
      "aayega\n",
      "kya ghanta lekar jaayega\n",
      " \n",
      "ab khauf nahin hai\n",
      " \n",
      "tu nanga hi to aayega\n",
      "apna toone boya hath nahi\n",
      "utna time aaya hai\n",
      "jo darr ko cheerenge\n",
      "sab kaise tu dafnayega\n",
      "meri bediyan par aaya hai\n",
      "phir bhi ladka sehmat ne hi to khauf nahi\n",
      "utni raakh se\n",
      "tu nanga hi to aayega\n",
      "uth ja apni raaste ko bhi satayega\n",
      "apna toone boya hai jaisa koyi hai chheene se jeenenge\n",
      "hum kaamyabi chheene mein hairat yahaan pighlayega\n",
      "jitna hi to khauf nahi\n",
      "utna hi to khaayega\n",
      " \n",
      "yeh shabdon ka hai\n",
      "zaroorat ki\n",
      "himaakat di hairat ki, ibaadat ki hai\n",
      "kya ghanta lekar jaayega\n",
      "apna time aayega\n",
      " \n",
      "tu nanga hi barkat ki\n",
      "adalat yahaan par\n",
      "yahaan marzi ki\n",
      "jeetne ki\n",
      "jeetne ki mehnat se main\n",
      "jitna hi to aayega\n",
      " \n",
      "ab hai\n",
      "kya tu dafnayega\n",
      "mere jaisa mera khud ki hai\n",
      "kya ghanta lekar jaayega\n",
      "kya tu ghanta lekar..\n",
      " \n",
      "kissi ka hai\n",
      "kya ghanta lekar..\n",
      " \n",
      "kissi ka jwala\n",
      "meri bediyan parwaaz dekh par aaya hai\n",
      "kya ghanta lekar jaayega\n",
      "aayega\n",
      "apna time aayega\n",
      "aayega\n",
      "apna time aaya hath nai hai\n",
      "zaroorat ki\n",
      "mohobbat ki, aafat ki hai jaisa shaanat ki\n",
      "aur jurrat yahaan marzi ki\n",
      "adalat yeh shabdon ki ab aadat ki apna time aaya khwaab\n",
      "ab kaise tu ghanta lekar jaayega\n",
      "uth ja ab jeene mein hai\n",
      "phir bhi sar uthayega\n",
      " \n",
      "taakat ki\n",
      "himaakat ki mehnat se main\n",
      "jitna time aayega\n",
      "apna time aayega\n",
      "apna time aaya hai\n",
      " \n",
      "iss hard’ch nai hai\n",
      "kyon\n",
      "kyon\n",
      "kyon\n",
      "kyon ki mehnat se main\n",
      "jitna time aayega\n",
      "apna toone boya hai\n",
      "kyon ka jwala\n",
      "mere jaisa shaan pighlayega\n",
      "zinda mera khud ki ab talaash mein\n",
      "parwaaz dekh par\n",
      "yahaan pighlayega\n",
      "apna time aayega\n",
      " \n",
      "ab kuchh mil payega\n",
      "aisa mera khwaab\n",
      "ab kuchh mila paseene mein hai\n",
      "shohrat ki ab aadat ki\n",
      "adalat yahaana ab aadat ki\n",
      "mohobbat ki apna time aayega\n",
      "zinda mera khwaab hausle se main\n",
      "jitni taakat ne hi tha sar uthayega\n",
      "meri bediyan pighlayega\n",
      " \n",
      "tu nanga hi to aaya hai\n",
      "phir bhi ladk\n"
     ]
    }
   ],
   "source": [
    "sent = generatetext(\"apna\", 4)\n",
    "print(sent)"
   ]
  },
  {
   "cell_type": "code",
   "execution_count": 26,
   "metadata": {},
   "outputs": [],
   "source": [
    "file = open(\"apna.txt\", 'w', encoding = \"utf8\")"
   ]
  },
  {
   "cell_type": "code",
   "execution_count": 27,
   "metadata": {},
   "outputs": [],
   "source": [
    "file.write(sent)\n",
    "file.close()"
   ]
  },
  {
   "cell_type": "code",
   "execution_count": null,
   "metadata": {},
   "outputs": [],
   "source": []
  }
 ],
 "metadata": {
  "kernelspec": {
   "display_name": "Python 3",
   "language": "python",
   "name": "python3"
  },
  "language_info": {
   "codemirror_mode": {
    "name": "ipython",
    "version": 3
   },
   "file_extension": ".py",
   "mimetype": "text/x-python",
   "name": "python",
   "nbconvert_exporter": "python",
   "pygments_lexer": "ipython3",
   "version": "3.7.0"
  }
 },
 "nbformat": 4,
 "nbformat_minor": 2
}
