{
 "cells": [
  {
   "cell_type": "code",
   "execution_count": 72,
   "metadata": {},
   "outputs": [],
   "source": [
    "import numpy as np\n",
    "import pandas as pd"
   ]
  },
  {
   "cell_type": "code",
   "execution_count": 73,
   "metadata": {},
   "outputs": [],
   "source": [
    "dfx = pd.read_csv('Trainnlp.csv')\n",
    "dfy = pd.read_csv('Test.csv')"
   ]
  },
  {
   "cell_type": "code",
   "execution_count": 74,
   "metadata": {},
   "outputs": [
    {
     "name": "stdout",
     "output_type": "stream",
     "text": [
      "['pos' 'pos' 'pos' ... 'neg' 'pos' 'pos']\n"
     ]
    }
   ],
   "source": [
    "ly = dfx.values\n",
    "y_train = ly[:,-1]\n",
    "print(y_train)"
   ]
  },
  {
   "cell_type": "code",
   "execution_count": 75,
   "metadata": {},
   "outputs": [
    {
     "name": "stdout",
     "output_type": "stream",
     "text": [
      "                                                 review\n",
      "8445  <br /><br />**********SPOILER ALERT***********...\n",
      "332   What has Rajiv Rai done to himself? Once a hit...\n",
      "1063  I imagine that the young people involved in th...\n",
      "6714  Another in the they don't make em like that ca...\n",
      "8327  Now for sure, this is one of the lightest-hear...\n"
     ]
    }
   ],
   "source": [
    "print(dfy.sample(5))"
   ]
  },
  {
   "cell_type": "code",
   "execution_count": 76,
   "metadata": {},
   "outputs": [],
   "source": [
    "from nltk.tokenize import RegexpTokenizer\n",
    "from nltk.stem.porter import PorterStemmer\n",
    "from nltk.corpus import stopwords"
   ]
  },
  {
   "cell_type": "code",
   "execution_count": 77,
   "metadata": {},
   "outputs": [],
   "source": [
    "tokenizer = RegexpTokenizer(r'\\w+')\n",
    "en_stopwords = set(stopwords.words('english'))\n",
    "ps = PorterStemmer()"
   ]
  },
  {
   "cell_type": "code",
   "execution_count": 78,
   "metadata": {},
   "outputs": [],
   "source": [
    "def getstemmedreview(reviews):\n",
    "    review = reviews.lower()\n",
    "    review = reviews.replace(\"<br /><br />\", \"\")\n",
    "    tokens = tokenizer.tokenize(review)\n",
    "    new_tokens = [token for token in tokens if token not in en_stopwords]\n",
    "    stemmed_tokens = [ps.stem(token) for token in new_tokens]\n",
    "    cleaned_review = ' '.join(stemmed_tokens)\n",
    "    return cleaned_review"
   ]
  },
  {
   "cell_type": "code",
   "execution_count": 79,
   "metadata": {},
   "outputs": [],
   "source": [
    "dfx[\"review\"]=dfx[\"review\"].apply(getstemmedreview)\n",
    "dfy[\"review\"]=dfy[\"review\"].apply(getstemmedreview)"
   ]
  },
  {
   "cell_type": "code",
   "execution_count": 80,
   "metadata": {},
   "outputs": [],
   "source": [
    "file=open(\"out.txt\",'w',encoding = \"utf8\")"
   ]
  },
  {
   "cell_type": "code",
   "execution_count": 81,
   "metadata": {},
   "outputs": [],
   "source": [
    "for review in dfx[\"review\"].values :\n",
    "    file.write(review)\n",
    "    file.write(\"\\n\")"
   ]
  },
  {
   "cell_type": "code",
   "execution_count": 82,
   "metadata": {},
   "outputs": [],
   "source": [
    "file=open(\"outtest.txt\",'w',encoding = \"utf8\")"
   ]
  },
  {
   "cell_type": "code",
   "execution_count": 83,
   "metadata": {},
   "outputs": [],
   "source": [
    "for review in dfy[\"review\"].values :\n",
    "    file.write(review)\n",
    "    file.write(\"\\n\")\n"
   ]
  },
  {
   "cell_type": "code",
   "execution_count": 84,
   "metadata": {},
   "outputs": [
    {
     "name": "stdout",
     "output_type": "stream",
     "text": [
      "0       rememb old kung fu movi use watch friday satur...\n",
      "1       thi movi anoth one list movi not To bother wit...\n",
      "2       how world thing like get dvd player home how e...\n",
      "3       queen damn one best vampir movi I ever seen th...\n",
      "4       the caprica episod s01e01 well done pilot real...\n",
      "5       I usual realli enjoy steven seagal movi they u...\n",
      "6       jiã Ã trnka made last anim short indict totali...\n",
      "7       thi bad contribut next bad movi parti I go It ...\n",
      "8       watch hilari retro entertain career girl tale ...\n",
      "9       excel polit thriller play much quieter slower ...\n",
      "10      spoiler I pleasantli surpris find harsh critic...\n",
      "11      chaplin great silent comedian mani silent era ...\n",
      "12      just caus take best part three film cape fear ...\n",
      "13      I found horrorvis almost unwatch while 70 minu...\n",
      "14      clint howard brother talent ron star abysm aw ...\n",
      "15      accord book the last cowboy hero joel mccrea a...\n",
      "16      I saw movi night I honestli say one worst film...\n",
      "17      A quit good film version novel though begin li...\n",
      "18      jess yet deliv almost 12 month hype upcom prod...\n",
      "19      and obvious I see but look cast see doug maste...\n",
      "20      An unfunni unworthi pictur undeserv end peter ...\n",
      "21      I caught first time night ago televis I expect...\n",
      "22      I saw movi berlin film festiv children program...\n",
      "23      first I seen better act realist makeup porno f...\n",
      "24      I watch movi video night found doze throughout...\n",
      "25      probabl worst bollywood film I seen No plot li...\n",
      "26      game huh game I even sure bloodi host particul...\n",
      "27      I start right begin say I like movi It sweep g...\n",
      "28      befor see sneak preview today angel demon I cl...\n",
      "29      meet cosmo jason priestley nerdi young booki c...\n",
      "                              ...                        \n",
      "9970    even us like cute anim pictur I abhor would ha...\n",
      "9971    the movi better expect I work movi set short p...\n",
      "9972    In august day die agost marc recha given us su...\n",
      "9973    My friend I pick paperhous random pile movi we...\n",
      "9974    To total honest I expect much go 9 soul even r...\n",
      "9975    well written movi actor exquisit way portray c...\n",
      "9976    look back jim henson work year death like take...\n",
      "9977    oliv gruner total unknown My friend show film ...\n",
      "9978    here fun fact I babi movi one crib I 19 year o...\n",
      "9979    thi movi would work much better first critter ...\n",
      "9980    An art teacher come across antiqu wooden bed m...\n",
      "9981    everi film maker bring life uniqu group peopl ...\n",
      "9982    I alway thought father second life eagerli awa...\n",
      "9983    If go attempt build tension film alway good id...\n",
      "9984    rememb rick mercer funni 22 minut great show r...\n",
      "9985    thi short subject remak three stoog 1942 film ...\n",
      "9986    after dark sweet strang mix sensual dull the f...\n",
      "9987    I realli appreci jung done death everyth I wan...\n",
      "9988    I rememb film exhibit barcelona spain 1970 tim...\n",
      "9989    cinderella one belov disney classic and realli...\n",
      "9990    run film rent I pick freebird I struggl first ...\n",
      "9991    world finest uniqu project It trailer superman...\n",
      "9992    thi movi deviat bibl fell bar 1956 movi I hate...\n",
      "9993    Be care one onc get yer mitt chang way look ku...\n",
      "9994    god where I begin from start finish I could he...\n",
      "9995    watch piec ondemand descript kind outlandish t...\n",
      "9996    A nurs travel rural psychiatr clinic run docto...\n",
      "9997    although small film kind got lost wake On the ...\n",
      "9998    I first saw film earli 80 cabl It uniqu statem...\n",
      "9999    recogn pictur diner cover dvd made realiz loca...\n",
      "Name: review, Length: 10000, dtype: object\n",
      "0        matur intellig highli charg melodrama unbelive...\n",
      "1        http video googl com videoplay docid 211772166...\n",
      "2        titl opera 1987 director dario argento cast cr...\n",
      "3        I think lot peopl wrote anoth one tom cruis we...\n",
      "4        thi stori two dog cat look way back home old w...\n",
      "5        steve carel come first star role 40 year old v...\n",
      "6        I go write requir howev summari I put top way ...\n",
      "7        OK riski move rent flick I thought I noth lose...\n",
      "8        cannib pair cinemat refer delicatessen plot st...\n",
      "9        thi one great modern kung fu film A lot review...\n",
      "10       steve martin look like face lift someth strang...\n",
      "11       robert jordan televis star robert jordan like ...\n",
      "12       probabl best comedi long time keep laugh nonst...\n",
      "13       the earlier review pretti much target altman n...\n",
      "14       It depress mani peopl understand movi To get c...\n",
      "15       thi like murder she wrote one show stress day ...\n",
      "16       thi film sleeper rod steiger big name credit y...\n",
      "17       give director stanley tong jacki chan super co...\n",
      "18       thi anoth favorit columbo It sport top notch c...\n",
      "19       thi film IS brilliant without doubt watch ago ...\n",
      "20       soul plane horribl attempt comedi appeal peopl...\n",
      "21       parti girl capit tremend charm parker posey In...\n",
      "22       I seen mani peopl pack outsid theater sinc sta...\n",
      "23       kevin spacey without doubt one best actor 90 a...\n",
      "24       love film mayb gener realli connect talk mean ...\n",
      "25       the first time I saw film I kid I ten year old...\n",
      "26       thi movi simpli awesom It hilari although skat...\n",
      "27       thi movi horribl I swear even write script kin...\n",
      "28       two thing happen ensembl cast brought togeth e...\n",
      "29       thi rever studi film classic among hitchcock m...\n",
      "                               ...                        \n",
      "39970    best anim movi ever made thi film explor vast ...\n",
      "39971    I thought whole movi play beauti fresh imag in...\n",
      "39972    trot everi stereotyp misrepresent heard semi d...\n",
      "39973    I saw chan Is miss first came four year move s...\n",
      "39974    there thing say tag line 2003 david zucker com...\n",
      "39975    thi film essenti littl introduct hip hop speci...\n",
      "39976    I readi pan episod see master realli horror fi...\n",
      "39977    when I first view movi I know titl I realiz ch...\n",
      "39978    A larg bed possess demon eat peopl among thing...\n",
      "39979    when art go overcom racism I believ american p...\n",
      "39980    sinc I big steven seagal fan I thought pretti ...\n",
      "39981    thi movi seem send wrong messag there moral wi...\n",
      "39982    men OF honor featur cuba good Jr probabl best ...\n",
      "39983    houseboat horror great titl film It absolut sp...\n",
      "39984    A documentari filmmak explor seemingli unrel p...\n",
      "39985    I love movi jouvet arletti blier carnã almost ...\n",
      "39986    I rent dark harvest first one look like cheesi...\n",
      "39987    In must one blood freez movi ever transvestit ...\n",
      "39988    thi favorit three care bear movi onc I like so...\n",
      "39989    I read flavia the heret mani year I got see ea...\n",
      "39990    In year 2006 In cold blood rivet thriller 1967...\n",
      "39991    the creator south park film brilliant film hug...\n",
      "39992    thi movi lot action littl heart let forget min...\n",
      "39993    jude law nicol kidman renn zelwigg they horrib...\n",
      "39994    thi great movi even though 15 peopl includ gre...\n",
      "39995    there similar ray lawrenc jindabyn last movi l...\n",
      "39996    for starter I met director go ww2 enact period...\n",
      "39997    much over her dead bodi pain unfunni I actual ...\n",
      "39998    lifeforc truli bizarr adapt novel the space va...\n",
      "39999    I saw movi screener best movi I seen loooong t...\n",
      "Name: review, Length: 40000, dtype: object\n"
     ]
    }
   ],
   "source": [
    "train_y = print(dfy[\"review\"])\n",
    "train_x = print(dfx[\"review\"])"
   ]
  },
  {
   "cell_type": "code",
   "execution_count": 85,
   "metadata": {},
   "outputs": [],
   "source": [
    "x_clean = [line.rstrip('\\n') for line in open('out.txt')]\n",
    "xt_clean = [line.rstrip('\\n') for line in open('outtest.txt')]\n",
    "#print(x_clean[:6])"
   ]
  },
  {
   "cell_type": "code",
   "execution_count": 86,
   "metadata": {},
   "outputs": [],
   "source": [
    "from sklearn.feature_extraction.text import CountVectorizer"
   ]
  },
  {
   "cell_type": "code",
   "execution_count": 87,
   "metadata": {},
   "outputs": [],
   "source": [
    "cv = CountVectorizer()"
   ]
  },
  {
   "cell_type": "code",
   "execution_count": 88,
   "metadata": {},
   "outputs": [],
   "source": [
    "x_vec = cv.fit_transform(x_clean)"
   ]
  },
  {
   "cell_type": "code",
   "execution_count": 89,
   "metadata": {},
   "outputs": [],
   "source": [
    "xt_vec = cv.transform(xt_clean)"
   ]
  },
  {
   "cell_type": "code",
   "execution_count": 90,
   "metadata": {},
   "outputs": [],
   "source": [
    "from sklearn.naive_bayes import MultinomialNB, BernoulliNB"
   ]
  },
  {
   "cell_type": "code",
   "execution_count": 91,
   "metadata": {},
   "outputs": [],
   "source": [
    "mnb = MultinomialNB()"
   ]
  },
  {
   "cell_type": "code",
   "execution_count": 92,
   "metadata": {},
   "outputs": [
    {
     "data": {
      "text/plain": [
       "MultinomialNB(alpha=1.0, class_prior=None, fit_prior=True)"
      ]
     },
     "execution_count": 92,
     "metadata": {},
     "output_type": "execute_result"
    }
   ],
   "source": [
    "mnb.fit(x_vec, y_train)"
   ]
  },
  {
   "cell_type": "code",
   "execution_count": 93,
   "metadata": {},
   "outputs": [],
   "source": [
    "y_test = mnb.predict(xt_vec)"
   ]
  },
  {
   "cell_type": "code",
   "execution_count": 94,
   "metadata": {},
   "outputs": [
    {
     "name": "stdout",
     "output_type": "stream",
     "text": [
      "['neg' 'neg' 'neg' ... 'pos' 'pos' 'neg']\n"
     ]
    }
   ],
   "source": [
    "arr = np.array(y_test)\n",
    "print(arr)"
   ]
  },
  {
   "cell_type": "code",
   "execution_count": 104,
   "metadata": {},
   "outputs": [],
   "source": [
    "df = pd.DataFrame(arr)\n",
    "df.columns = ['index']\n"
   ]
  },
  {
   "cell_type": "code",
   "execution_count": 105,
   "metadata": {},
   "outputs": [],
   "source": [
    "df.to_csv('submission_movie.csv', encoding = 'utf-8')"
   ]
  },
  {
   "cell_type": "code",
   "execution_count": 106,
   "metadata": {},
   "outputs": [
    {
     "data": {
      "text/plain": [
       "BernoulliNB(alpha=1.0, binarize=0.0, class_prior=None, fit_prior=True)"
      ]
     },
     "execution_count": 106,
     "metadata": {},
     "output_type": "execute_result"
    }
   ],
   "source": [
    "bnb = BernoulliNB()\n",
    "bnb.fit(x_vec, y_train)"
   ]
  },
  {
   "cell_type": "code",
   "execution_count": 107,
   "metadata": {},
   "outputs": [
    {
     "name": "stdout",
     "output_type": "stream",
     "text": [
      "['neg' 'pos' 'neg' ... 'pos' 'pos' 'neg']\n"
     ]
    }
   ],
   "source": [
    "b_test = bnb.predict(xt_vec)\n",
    "print(b_test)    "
   ]
  },
  {
   "cell_type": "code",
   "execution_count": 108,
   "metadata": {},
   "outputs": [],
   "source": [
    "arr = np.array(b_test)"
   ]
  },
  {
   "cell_type": "code",
   "execution_count": 109,
   "metadata": {},
   "outputs": [],
   "source": [
    "df = pd.DataFrame(arr)\n",
    "df.columns = ['index']\n",
    "df.to_csv('submission_movie.csv', encoding = 'utf-8')"
   ]
  },
  {
   "cell_type": "code",
   "execution_count": null,
   "metadata": {},
   "outputs": [],
   "source": []
  }
 ],
 "metadata": {
  "kernelspec": {
   "display_name": "Python 3",
   "language": "python",
   "name": "python3"
  },
  "language_info": {
   "codemirror_mode": {
    "name": "ipython",
    "version": 3
   },
   "file_extension": ".py",
   "mimetype": "text/x-python",
   "name": "python",
   "nbconvert_exporter": "python",
   "pygments_lexer": "ipython3",
   "version": "3.7.0"
  }
 },
 "nbformat": 4,
 "nbformat_minor": 2
}
